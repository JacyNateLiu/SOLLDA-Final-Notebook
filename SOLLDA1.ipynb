{
 "cells": [
  {
   "cell_type": "markdown",
   "metadata": {
    "id": "nD2BPxLhB_CY"
   },
   "source": [
    "# **CAR SALES DATASET** | Mystery Group"
   ]
  },
  {
   "cell_type": "markdown",
   "metadata": {
    "id": "p2RUlp3CCWgG"
   },
   "source": [
    "## **I. OBJECTIVE**\n",
    "\n",
    "The objective of the analysis is to provide insights on market trends and customer preferences by using the existing dataset. Specifically, it aims to answer the following questions:\n",
    "\n",
    "1. What are the key variables and their distribution?\n",
    "2. Are there missing values or outliers in the data?\n",
    "3. How do different variables relate to each other?\n",
    "4. What trends or patterns can be observed?"
   ]
  },
  {
   "cell_type": "markdown",
   "metadata": {
    "id": "iEYuIOuoEDpZ"
   },
   "source": [
    "## **II. PROBLEM STATEMENT**\n",
    "\n",
    "With the rise and trend of electric vehicles, Chevrolet's electric models like Blazer EV performed well in the market. However, gas-powered SUVs had a [decline in sales](https://www.caranddriver.com/news/g63335108/auto-sales-q4-2024-winners-losers/). For instance, models such as the Blazer experienced a 20% drop, the Suburban 16%, and the Tahoe 5% in 2024.\n",
    "While, GM's [global sales for the first half of 2024 totaled 2.78 million units](https://www.marklines.com/en/report/rep2752_202411), which is a  6.3% decrease from the same period the previous year, with significant losses reported in the Chinese market.\n",
    "\n",
    "The changes in market trends led to challenges such as strong competition from other local brands in other countries, misalignment with consumer preferences and operational challenges."
   ]
  },
  {
   "cell_type": "markdown",
   "metadata": {
    "id": "d3RkIlLBEKWH"
   },
   "source": [
    "## **III. BACKGROUND**"
   ]
  },
  {
   "cell_type": "markdown",
   "metadata": {
    "id": "DEjXwZtNuG56"
   },
   "source": [
    "The dataset is a Sales Report that can be utilized for Market Trends and Predictive Analysis. While the exact source of the data is unknown, it has been widely downloaded and used by Kaggle users, receiving positive reviews and engagement, suggesting a level of reliability and completeness."
   ]
  },
  {
   "cell_type": "markdown",
   "metadata": {
    "id": "Qv5Cszsq9sl2"
   },
   "source": [
    "## **IV. DATA SOURCE**"
   ]
  },
  {
   "cell_type": "markdown",
   "metadata": {
    "id": "kuuK-Wk4vwhy"
   },
   "source": [
    "The data was sourced from Vasu_Avasthi on Kaggle with title \"Car Sales Report--A Detailed Analysis of Global Car Sales Trends\". However, the origin of the data and the methods used for collection are unknown. The dataset covers the time period from 2022 to 2023 and is available in CSV format."
   ]
  },
  {
   "cell_type": "markdown",
   "metadata": {
    "id": "5xjKFH5JQJyz"
   },
   "source": [
    "Link to dataset: https://www.kaggle.com/datasets/missionjee/car-sales-report/data"
   ]
  },
  {
   "cell_type": "markdown",
   "metadata": {
    "id": "T1wNnc7h95rH"
   },
   "source": [
    "## **V. DATA DESCRIPTION**\n",
    "The Car Sales Report provided by Vasu_Avasthi in Kaggle contains a total of 23,906 unique values and 16 columns of car sales report from different companies starting from 2022 to 2023 **(can be more specific)**. Several features **(or variables)** in the dataset are relevant to the Market Analysis objective of this project. Some relevant variables that will be utilized include ‘Model’, ‘Price’, and ‘Annual Income’ **(can be changed)**. Meanwhile the ‘Company’ variable will be filtered to ‘only Chevrolet’ for specification requirements compliance of focusing on only a single company **(TO DO)**. Specifically, the variables in the Car Sales Report dataset are **(can be removed)**:\n",
    "* Car_id\n",
    "* Date\n",
    "* Customer Name\n",
    "* Gender\n",
    "* Annual Income\n",
    "* Dealer_Name\n",
    "* Company\n",
    "* Model\n",
    "* Engine\n",
    "* Transmission\n",
    "* Color\n",
    "* Price ($)\n",
    "* Dealer_No\n",
    "* Body Style\n",
    "* Phone\n",
    "* Dealer_Region\n"
   ]
  },
  {
   "cell_type": "markdown",
   "metadata": {
    "id": "L0r47s4h-Lyd"
   },
   "source": [
    "## **VI. EXPLORATORY DATA ANALYSIS**"
   ]
  },
  {
   "cell_type": "markdown",
   "metadata": {
    "id": "3Y9u26Xb5xZ2"
   },
   "source": [
    "This cell imports essential libraries for the project: `pandas` for data manipulation, `numpy` and `math` for numerical operations, `matplotlib` and `seaborn` for data visualization."
   ]
  },
  {
   "cell_type": "code",
   "execution_count": null,
   "metadata": {
    "id": "mcVAqon8ERbX"
   },
   "outputs": [],
   "source": [
    "import pandas as pd\n",
    "import numpy as np\n",
    "import matplotlib.pyplot as plt\n",
    "import seaborn as sns\n",
    "import math\n",
    "import scipy.stats as stats"
   ]
  },
  {
   "cell_type": "markdown",
   "metadata": {
    "id": "wzVEoyTQ6D7V"
   },
   "source": [
    "loading the dataset [Car Sales Report dataset](https://www.kaggle.com/datasets/missionjee/car-sales-report/data) using pandas into DataFrame and assigning to `df` variable."
   ]
  },
  {
   "cell_type": "code",
   "execution_count": null,
   "metadata": {
    "id": "KPt0_PBRGa0Y"
   },
   "outputs": [],
   "source": [
    "# Load CSV file into a DataFrame\n",
    "df = pd.read_csv('Car Sales.xlsx - car_data.csv')"
   ]
  },
  {
   "cell_type": "markdown",
   "metadata": {
    "id": "B4Gy4C846mgG"
   },
   "source": [
    "Check if the dataset was read successfully. Use the `head()` function to display the first few rows of the data frame."
   ]
  },
  {
   "cell_type": "code",
   "execution_count": null,
   "metadata": {
    "colab": {
     "base_uri": "https://localhost:8080/",
     "height": 310
    },
    "id": "0bIe8DVIozWX",
    "outputId": "94c14408-a905-4937-d273-eec10abf2e92"
   },
   "outputs": [],
   "source": [
    "df.head()"
   ]
  },
  {
   "cell_type": "markdown",
   "metadata": {
    "id": "rGG2YrnniDFZ"
   },
   "source": [
    "### **1. Data Overview**"
   ]
  },
  {
   "cell_type": "markdown",
   "metadata": {
    "id": "ZBLPDr5C6331"
   },
   "source": [
    "This cell outputs the summary statistics of the numerical columns such as `Annual Income`, `Price`, and `Phone`."
   ]
  },
  {
   "cell_type": "code",
   "execution_count": null,
   "metadata": {
    "colab": {
     "base_uri": "https://localhost:8080/",
     "height": 300
    },
    "id": "OzSMru7ai0Qh",
    "outputId": "9ad40382-925f-4b9f-f325-6284d767700b"
   },
   "outputs": [],
   "source": [
    "# Ouptut summary statistics of numerical columns\n",
    "df.describe()"
   ]
  },
  {
   "cell_type": "code",
   "execution_count": null,
   "metadata": {
    "colab": {
     "base_uri": "https://localhost:8080/"
    },
    "id": "723rqjyIr8Tr",
    "outputId": "79b16cca-f87a-4887-e6e0-e1c78fa48fa4"
   },
   "outputs": [],
   "source": [
    "df['Date'] = pd.to_datetime(df['Date'], format=\"%m/%d/%Y\") # convert `Date` column to datetime format.\n",
    "df['Year'] = df['Date'].dt.year # extract year from `Date` column\n",
    "\n",
    "categorical_features = ['Year', 'Gender', 'Company', 'Engine', 'Transmission', 'Color', 'Body Style', 'Model', 'Dealer_Name', 'Dealer_Region']\n",
    "\n",
    "for col in categorical_features:\n",
    "    print(f\"Summary statistics for {col}:\\n\")\n",
    "    print(df[col].describe())\n",
    "    print(\"\\n\" + \"-\"*40 + \"\\n\")"
   ]
  },
  {
   "cell_type": "markdown",
   "metadata": {
    "id": "UFphEuQI7Y0N"
   },
   "source": [
    "The cell below shows the dimensions (number of rows and columns) of the DataFrame."
   ]
  },
  {
   "cell_type": "code",
   "execution_count": null,
   "metadata": {
    "colab": {
     "base_uri": "https://localhost:8080/"
    },
    "id": "oBgDsiVejbd0",
    "outputId": "eb067a37-86fb-4d65-fe66-83f4b9bfb7de"
   },
   "outputs": [],
   "source": [
    "# Data dimensions (numbers of rows and columns)\n",
    "df.shape"
   ]
  },
  {
   "cell_type": "markdown",
   "metadata": {
    "id": "NtIWDPxF7kYe"
   },
   "source": [
    "Using the `info()` function to display the general information about the dataset such as data types and distribution."
   ]
  },
  {
   "cell_type": "code",
   "execution_count": null,
   "metadata": {
    "colab": {
     "base_uri": "https://localhost:8080/"
    },
    "id": "m5-zcF3KjolI",
    "outputId": "4b1394c7-3732-4383-ea00-d61d13015dbb"
   },
   "outputs": [],
   "source": [
    "# Data types and data distribution\n",
    "df.info()"
   ]
  },
  {
   "cell_type": "markdown",
   "metadata": {
    "id": "1K1tvdWH79Ed"
   },
   "source": [
    "The following cells checks for the missing values in the DataFrame."
   ]
  },
  {
   "cell_type": "code",
   "execution_count": null,
   "metadata": {
    "colab": {
     "base_uri": "https://localhost:8080/",
     "height": 423
    },
    "id": "igHa0XuIlNHI",
    "outputId": "191217b9-80fc-444e-8985-35d2c12342fb"
   },
   "outputs": [],
   "source": [
    "# Missing data\n",
    "df.isnull()"
   ]
  },
  {
   "cell_type": "code",
   "execution_count": null,
   "metadata": {
    "colab": {
     "base_uri": "https://localhost:8080/"
    },
    "id": "674AaMxklvOU",
    "outputId": "2b3721c9-d4da-426b-8dba-4914ce001931"
   },
   "outputs": [],
   "source": [
    "print(df.isnull().sum())"
   ]
  },
  {
   "cell_type": "markdown",
   "metadata": {
    "id": "naBy2G2r8Ecm"
   },
   "source": [
    "It can be seen that there is one missing value for `Customer Name` column. The next cell shows details on the instance with the missing value."
   ]
  },
  {
   "cell_type": "code",
   "execution_count": null,
   "metadata": {
    "colab": {
     "base_uri": "https://localhost:8080/"
    },
    "id": "zqvkzpI-u-VQ",
    "outputId": "dbd545df-4bc5-4b8b-dbac-a123e184d83d"
   },
   "outputs": [],
   "source": [
    "missing_index = df[df.isnull().any(axis=1)].index\n",
    "print(\"Index of instance with missing value: \\n\", df.iloc[missing_index[0]])"
   ]
  },
  {
   "cell_type": "markdown",
   "metadata": {
    "id": "C5zrDTdl8dsm"
   },
   "source": [
    "There are two options that can be done to remove missing values:   \n",
    "1. Drop the instance (row) with the missing value.\n",
    "2. Drop the `Customer Name` column since it is unique and may not help in analysis."
   ]
  },
  {
   "cell_type": "markdown",
   "metadata": {
    "id": "wjs605V2icUf"
   },
   "source": [
    "### **2. Univariate Analysis**"
   ]
  },
  {
   "cell_type": "markdown",
   "metadata": {
    "id": "e1L9tVTu9bGU"
   },
   "source": [
    "This section analyzes individual variables to understand their distribution and key characteristics."
   ]
  },
  {
   "cell_type": "markdown",
   "metadata": {
    "id": "RpI3t4MpyaN3"
   },
   "source": [
    "#### Histogram for Numerical Columns\n",
    "\n",
    "The cells below uses histogram to visualize the distribution of individual numerical columns."
   ]
  },
  {
   "cell_type": "code",
   "execution_count": null,
   "metadata": {
    "id": "f5RFgulbTRQp"
   },
   "outputs": [],
   "source": [
    "# Get numerical columns\n",
    "numerical_features = df.select_dtypes(include=['int64', 'float64']).columns\n",
    "\n",
    "# For numerical columns\n",
    "num_cols = 3  # Number of columns for subplot grid\n",
    "num_features = len(numerical_features)\n",
    "num_rows = math.ceil(num_features / num_cols)  # Calculate rows needed"
   ]
  },
  {
   "cell_type": "code",
   "execution_count": null,
   "metadata": {
    "colab": {
     "base_uri": "https://localhost:8080/",
     "height": 507
    },
    "id": "ER8Eb97fTfRg",
    "outputId": "3568e230-2ac2-45e7-fd7c-e7f3522b1fa4"
   },
   "outputs": [],
   "source": [
    "fig, axes = plt.subplots(nrows=num_rows, ncols=num_cols, figsize=(15, 5 * num_rows))\n",
    "axes = axes.flatten()\n",
    "\n",
    "for i, col in enumerate(numerical_features):\n",
    "    sns.histplot(df[col], bins=20, kde=True, ax=axes[i], color='blue')  # Histogram + KDE\n",
    "    axes[i].set_title(f'Histogram of {col}', fontsize=12)\n",
    "\n",
    "# Remove empty subplots\n",
    "for j in range(i + 1, len(axes)):\n",
    "    fig.delaxes(axes[j])\n",
    "\n",
    "plt.tight_layout()\n",
    "plt.show()"
   ]
  },
  {
   "cell_type": "markdown",
   "metadata": {
    "id": "mDuu4eKg_fFc"
   },
   "source": [
    "#### Box Plot for Numerical Columns\n",
    "\n",
    "To further show the distribution, spread, and outliers of the numerical features, Box Plot was used for visualization."
   ]
  },
  {
   "cell_type": "code",
   "execution_count": null,
   "metadata": {
    "colab": {
     "base_uri": "https://localhost:8080/",
     "height": 507
    },
    "id": "Lfn14gWJTjq_",
    "outputId": "d55e6b05-3094-4c71-d282-70333b87e5b5"
   },
   "outputs": [],
   "source": [
    "# Box Plot for Numerical Columns\n",
    "fig, axes = plt.subplots(nrows=num_rows, ncols=num_cols, figsize=(15, 5 * num_rows))\n",
    "axes = axes.flatten()\n",
    "\n",
    "for i, col in enumerate(numerical_features):\n",
    "    sns.boxplot(y=df[col], ax=axes[i], color='green')  # Box plot\n",
    "    axes[i].set_title(f'Box Plot of {col}', fontsize=12)\n",
    "\n",
    "for j in range(i + 1, len(axes)):\n",
    "    fig.delaxes(axes[j])\n",
    "\n",
    "plt.tight_layout()\n",
    "plt.show()"
   ]
  },
  {
   "cell_type": "markdown",
   "metadata": {
    "id": "4A4YziQK_6oY"
   },
   "source": [
    "#### Bar Plot for Categorical Columns\n",
    "\n",
    "For visualization of categorical variables, Bar Plot was used."
   ]
  },
  {
   "cell_type": "code",
   "execution_count": null,
   "metadata": {
    "id": "c6FrFbNn-xt9"
   },
   "outputs": [],
   "source": [
    "# Select categorical columns\n",
    "categorical_features = ['Year', 'Gender', 'Company', 'Engine', 'Transmission', 'Color', 'Body Style',  'Dealer_Name', 'Dealer_Region']\n",
    "\n",
    "cat_cols = 2 # number of columns for subplot\n",
    "cat_features = len(categorical_features)\n",
    "cat_rows = math.ceil(cat_features / cat_cols) # number of rows for subplot"
   ]
  },
  {
   "cell_type": "code",
   "execution_count": null,
   "metadata": {
    "colab": {
     "base_uri": "https://localhost:8080/",
     "height": 1000
    },
    "id": "XRVp6hy3T1yZ",
    "outputId": "706ddb17-0201-46f6-a860-2b881650a4c9"
   },
   "outputs": [],
   "source": [
    "# Bar Plot for categorical features/columns\n",
    "fig, axes = plt.subplots(nrows=cat_rows, ncols=cat_cols, figsize=(15, 5 * cat_rows))\n",
    "axes = axes.flatten()\n",
    "\n",
    "for i, col in enumerate(categorical_features):\n",
    "    sns.countplot(x=df[col], ax=axes[i], palette='viridis')  # Bar plot\n",
    "    axes[i].set_title(f'Bar Plot of {col}', fontsize=12)\n",
    "    axes[i].tick_params(axis='x', rotation=90)  # Rotate x-axis labels for readability\n",
    "\n",
    "for j in range(i + 1, len(axes)):\n",
    "    fig.delaxes(axes[j])\n",
    "\n",
    "plt.tight_layout()\n",
    "plt.show()"
   ]
  },
  {
   "cell_type": "markdown",
   "metadata": {
    "id": "2qknh_vxihNk"
   },
   "source": [
    "### **3. Bivariate Analysis**\n",
    "This section examines the relationship between two variables to identify patterns and correlations."
   ]
  },
  {
   "cell_type": "markdown",
   "metadata": {
    "id": "_WUoAyFzAR9d"
   },
   "source": [
    "#### 1. Monthly sales for each year (2022 and 2023)."
   ]
  },
  {
   "cell_type": "code",
   "execution_count": null,
   "metadata": {
    "id": "36yx6E6nYUgX"
   },
   "outputs": [],
   "source": [
    "# Get instances with year 2022 and 2023\n",
    "year2022 = df[df['Year'] == 2022]\n",
    "year2023 = df[df['Year'] == 2023]"
   ]
  },
  {
   "cell_type": "code",
   "execution_count": null,
   "metadata": {
    "colab": {
     "base_uri": "https://localhost:8080/",
     "height": 715
    },
    "id": "rc0PrIxnZXLX",
    "outputId": "ce85d787-f9be-4d2f-cb27-2d5cc5c11005"
   },
   "outputs": [],
   "source": [
    "year2022.loc[:, '2022 Month'] = year2022['Date'].dt.month\n",
    "year2023.loc[:, '2023 Month'] = year2023['Date'].dt.month\n",
    "\n",
    "fig, axes = plt.subplots(nrows=1, ncols=2, figsize=(15, 5))\n",
    "\n",
    "# Bar Plot for 2022\n",
    "sns.countplot(x='2022 Month', data=year2022, ax=axes[0], palette='viridis')\n",
    "axes[0].set_title('Bar Plot of 2022', fontsize=12)\n",
    "axes[0].tick_params(axis='x', rotation=45)\n",
    "\n",
    "# Bar Plot for 2023\n",
    "sns.countplot(x='2023 Month', data=year2023, ax=axes[1], palette='viridis')\n",
    "axes[1].set_title('Bar Plot of 2023', fontsize=12)  # Fixed incorrect title\n",
    "axes[1].tick_params(axis='x', rotation=45)\n",
    "\n",
    "plt.tight_layout()\n",
    "plt.show()"
   ]
  },
  {
   "cell_type": "markdown",
   "metadata": {
    "id": "DKV3BZEoGc6c"
   },
   "source": [
    "#### 2. Is there a correlation between a customer's annual income and the car price they purchase?"
   ]
  },
  {
   "cell_type": "code",
   "execution_count": null,
   "metadata": {
    "colab": {
     "base_uri": "https://localhost:8080/",
     "height": 489
    },
    "id": "u4YhNgasHmEd",
    "outputId": "9bf4122d-519e-460b-8057-6eef11467c8a"
   },
   "outputs": [],
   "source": [
    "# Scatter plot\n",
    "sns.scatterplot(x=df[\"Annual Income\"], y=df[\"Price ($)\"])\n",
    "plt.title(\"Annual Income vs Price of Car\")\n",
    "plt.show()\n",
    "\n",
    "# Correlation\n",
    "correlation = df[\"Annual Income\"].corr(df[\"Price ($)\"])\n",
    "print(\"Correlation:\", correlation)"
   ]
  },
  {
   "cell_type": "code",
   "execution_count": null,
   "metadata": {
    "colab": {
     "base_uri": "https://localhost:8080/"
    },
    "id": "tBDR6oK9H4x8",
    "outputId": "6c2b80b6-c770-4170-f0be-6b8b5c0c820d"
   },
   "outputs": [],
   "source": [
    "# Calculations\n",
    "from scipy.stats import pearsonr, spearmanr, kendalltau\n",
    "\n",
    "# Pearson correlation\n",
    "pearson_corr, _ = pearsonr(df[\"Annual Income\"], df[\"Price ($)\"])\n",
    "print(\"Pearson correlation:\", pearson_corr)\n",
    "\n",
    "# Spearman correlation\n",
    "spearman_corr, _ = spearmanr(df[\"Annual Income\"], df[\"Price ($)\"])\n",
    "print(\"Spearman correlation:\", spearman_corr)\n",
    "\n",
    "# Kendall correlation\n",
    "kendall_corr, _ = kendalltau(df[\"Annual Income\"], df[\"Price ($)\"])\n",
    "print(\"Kendall correlation:\", kendall_corr)"
   ]
  },
  {
   "cell_type": "markdown",
   "metadata": {
    "id": "XbxF42XlJFvl"
   },
   "source": [
    "#### 3. Customer's average annual income per company"
   ]
  },
  {
   "cell_type": "code",
   "execution_count": null,
   "metadata": {
    "colab": {
     "base_uri": "https://localhost:8080/",
     "height": 1000
    },
    "id": "gLFzrsYmJEul",
    "outputId": "1bde0528-caa3-47ef-808d-31dd89e36eab"
   },
   "outputs": [],
   "source": [
    "cusotmer_income = df.groupby(\"Company\")[\"Annual Income\"].mean().sort_values(ascending=False)\n",
    "print(cusotmer_income)\n",
    "\n",
    "# Bar plot\n",
    "cusotmer_income.plot(kind='bar', title=\"Average Customer Income per Company\")\n",
    "plt.ylabel(\"Average Annual Income\")\n",
    "plt.show()"
   ]
  },
  {
   "cell_type": "markdown",
   "metadata": {
    "id": "WDG93o0_GqW1"
   },
   "source": [
    "#### 4. Is there a significant difference in car prices based on gender?"
   ]
  },
  {
   "cell_type": "code",
   "execution_count": null,
   "metadata": {
    "colab": {
     "base_uri": "https://localhost:8080/",
     "height": 559
    },
    "id": "Vh0vwfaCIIO1",
    "outputId": "aed65a90-1a83-46bc-8176-f02d0ad980fe"
   },
   "outputs": [],
   "source": [
    "price_by_gender = df.groupby(\"Gender\")[\"Price ($)\"].mean()\n",
    "print(price_by_gender)\n",
    "\n",
    "male_prices = df[df[\"Gender\"] == \"Male\"][\"Price ($)\"]\n",
    "female_prices = df[df[\"Gender\"] == \"Female\"][\"Price ($)\"]\n",
    "\n",
    "# Box plot\n",
    "sns.boxplot(x=df[\"Gender\"], y=df[\"Price ($)\"])\n",
    "plt.title(\"Car Price by Gender\")\n",
    "plt.show()\n",
    "\n",
    "# Statistical test (T-test)\n",
    "t_stat, p_value = stats.ttest_ind(male_prices, female_prices, nan_policy='omit')\n",
    "print(\"T-test p-value:\", p_value)"
   ]
  },
  {
   "cell_type": "markdown",
   "metadata": {
    "id": "3avGHf01PP0D"
   },
   "source": [
    "#### 5. Is there a significant difference in Engines based on gender?"
   ]
  },
  {
   "cell_type": "code",
   "execution_count": null,
   "metadata": {
    "colab": {
     "base_uri": "https://localhost:8080/",
     "height": 576
    },
    "id": "oq1CYe3_PO2T",
    "outputId": "4b584827-424f-409c-b431-e27bb1cdf208"
   },
   "outputs": [],
   "source": [
    "engine_by_gender = df.groupby([\"Engine\", \"Gender\"]).size()\n",
    "print(engine_by_gender)\n",
    "\n",
    "sns.countplot(data=df, x=\"Engine\", hue=\"Gender\")\n",
    "plt.title(\"Distribution of Engine Types by Gender\")\n",
    "plt.show()"
   ]
  },
  {
   "cell_type": "markdown",
   "metadata": {
    "id": "wIJpb6TxG088"
   },
   "source": [
    "#### 6. Do car prices vary by dealer region?"
   ]
  },
  {
   "cell_type": "code",
   "execution_count": null,
   "metadata": {
    "colab": {
     "base_uri": "https://localhost:8080/",
     "height": 694
    },
    "id": "F5H0SBxmIVxT",
    "outputId": "33be9595-5fa5-497e-9350-5adefcaf85c6"
   },
   "outputs": [],
   "source": [
    "region_prices = df.groupby(\"Dealer_Region\")[\"Price ($)\"].mean().sort_values(ascending=False)\n",
    "print(region_prices)\n",
    "\n",
    "# Bar plot\n",
    "region_prices.plot(kind='bar', title=\"Average Car Price by Dealer Region\")\n",
    "plt.ylabel(\"Average Price ($)\")\n",
    "plt.show()"
   ]
  },
  {
   "cell_type": "markdown",
   "metadata": {
    "id": "d8BVuMiwG8jE"
   },
   "source": [
    "#### 7. Is there a relationship between Transmission type and Price ($)?"
   ]
  },
  {
   "cell_type": "code",
   "execution_count": null,
   "metadata": {
    "colab": {
     "base_uri": "https://localhost:8080/",
     "height": 472
    },
    "id": "1Yg6o13rIf4e",
    "outputId": "363634cc-17ff-4f52-eab8-8f31e8ba469a"
   },
   "outputs": [],
   "source": [
    "sns.boxplot(x=df[\"Transmission\"], y=df[\"Price ($)\"])\n",
    "plt.title(\"Price Distribution by Transmission Type\")\n",
    "plt.show()"
   ]
  },
  {
   "cell_type": "code",
   "execution_count": null,
   "metadata": {
    "colab": {
     "base_uri": "https://localhost:8080/",
     "height": 577
    },
    "id": "E2a7JULcplrX",
    "outputId": "8f6236cc-d102-4263-bc2c-54eea96357a4"
   },
   "outputs": [],
   "source": [
    "transmission_prices = df.groupby(\"Transmission\")[\"Price ($)\"].mean().sort_values(ascending=False)\n",
    "print(transmission_prices)\n",
    "\n",
    "# Bar plot\n",
    "transmission_prices.plot(kind='bar', title=\"Average Car Price by Transmission\")\n",
    "plt.ylabel(\"Average Price ($)\")\n",
    "plt.show()"
   ]
  },
  {
   "cell_type": "markdown",
   "metadata": {
    "id": "XniGsCLbHEBG"
   },
   "source": [
    "#### 8.  What is the relationship between Body Style and Price ($)?"
   ]
  },
  {
   "cell_type": "code",
   "execution_count": null,
   "metadata": {
    "colab": {
     "base_uri": "https://localhost:8080/",
     "height": 520
    },
    "id": "cig9V4HxIlcd",
    "outputId": "fd1bb32d-b836-49ec-f98c-30591f7558d1"
   },
   "outputs": [],
   "source": [
    "sns.boxplot(x=df[\"Body Style\"], y=df[\"Price ($)\"])\n",
    "plt.xticks(rotation=45)\n",
    "plt.title(\"Car Price by Body Style\")\n",
    "plt.show()"
   ]
  },
  {
   "cell_type": "code",
   "execution_count": null,
   "metadata": {
    "colab": {
     "base_uri": "https://localhost:8080/",
     "height": 653
    },
    "id": "ubR1tqN5pRsf",
    "outputId": "539a7dba-518b-4ac3-8833-d3459c5dd58b"
   },
   "outputs": [],
   "source": [
    "bodystyle_prices = df.groupby(\"Body Style\")[\"Price ($)\"].mean().sort_values(ascending=False)\n",
    "print(bodystyle_prices)\n",
    "\n",
    "# Bar plot\n",
    "bodystyle_prices.plot(kind='bar', title=\"Average Car Price by Body Style\")\n",
    "plt.ylabel(\"Average Price ($)\")\n",
    "plt.show()"
   ]
  },
  {
   "cell_type": "markdown",
   "metadata": {
    "id": "mrlaE87NHNND"
   },
   "source": [
    "#### 9. Which company sells the most expensive cars?"
   ]
  },
  {
   "cell_type": "code",
   "execution_count": null,
   "metadata": {
    "colab": {
     "base_uri": "https://localhost:8080/",
     "height": 1000
    },
    "id": "chswf0UjIsCV",
    "outputId": "6fab23a2-49f5-4ab3-b1fc-78fb903c5524"
   },
   "outputs": [],
   "source": [
    "company_prices = df.groupby(\"Company\")[\"Price ($)\"].mean().sort_values(ascending=False)\n",
    "print(company_prices)\n",
    "\n",
    "# Bar plot\n",
    "company_prices.plot(kind='bar', title=\"Average Car Price by Company\")\n",
    "plt.ylabel(\"Average Price ($)\")\n",
    "plt.show()"
   ]
  },
  {
   "cell_type": "markdown",
   "metadata": {
    "id": "puocOhjEHfiS"
   },
   "source": [
    "#### 10. Do certain dealers sell more expensive cars?"
   ]
  },
  {
   "cell_type": "code",
   "execution_count": null,
   "metadata": {
    "colab": {
     "base_uri": "https://localhost:8080/",
     "height": 1000
    },
    "id": "aPg_sZyzI8yr",
    "outputId": "72d54a4b-d078-4882-88cc-50f7b4522eb4"
   },
   "outputs": [],
   "source": [
    "dealer_prices = df.groupby(\"Dealer_Name\")[\"Price ($)\"].mean().sort_values(ascending=False)\n",
    "print(dealer_prices)\n",
    "\n",
    "# Plot\n",
    "dealer_prices.head(10).plot(kind='bar', title=\"Top 10 Dealers by Average Price\")\n",
    "plt.ylabel(\"Average Price ($)\")\n",
    "plt.show()"
   ]
  },
  {
   "cell_type": "markdown",
   "metadata": {
    "id": "O2Y6RYyIfjif"
   },
   "source": [
    "#### 11. What are the total sales by month, year, and company?"
   ]
  },
  {
   "cell_type": "code",
   "execution_count": null,
   "metadata": {
    "colab": {
     "base_uri": "https://localhost:8080/",
     "height": 489
    },
    "id": "TMSlKVgUYbtU",
    "outputId": "a896996b-2610-4db4-e6e0-fd0cc34caacd"
   },
   "outputs": [],
   "source": [
    "month_sales = year2022.groupby('2022 Month')['Price ($)'].sum().reset_index()\n",
    "\n",
    "plt.figure(figsize=(10, 5))\n",
    "month_sales.plot(kind='line', marker='o', color='purple')\n",
    "plt.title(\"Monthly Sales Trend (2022)\")\n",
    "plt.xlabel(\"Month\")\n",
    "plt.ylabel(\"Total Price ($)\")\n",
    "plt.grid()\n",
    "plt.show()"
   ]
  },
  {
   "cell_type": "code",
   "execution_count": null,
   "metadata": {
    "colab": {
     "base_uri": "https://localhost:8080/",
     "height": 489
    },
    "id": "d3JR8vpPeVPw",
    "outputId": "ed714c75-b459-4372-a275-84a625e88d84"
   },
   "outputs": [],
   "source": [
    "month_sales = year2023.groupby('2023 Month')['Price ($)'].sum().reset_index()\n",
    "\n",
    "plt.figure(figsize=(10, 5))\n",
    "month_sales.plot(kind='line', marker='o', color='purple')\n",
    "plt.title(\"Monthly Sales Trend (2023)\")\n",
    "plt.xlabel(\"Month\")\n",
    "plt.ylabel(\"Total Price ($)\")\n",
    "plt.grid()\n",
    "plt.show()"
   ]
  },
  {
   "cell_type": "code",
   "execution_count": null,
   "metadata": {
    "colab": {
     "base_uri": "https://localhost:8080/",
     "height": 541
    },
    "id": "hmLVBFt6dSnR",
    "outputId": "26072da6-f7d2-4320-e29e-bf277499e6a1"
   },
   "outputs": [],
   "source": [
    "company_sales = year2022.groupby('Company')['Price ($)'].sum()\n",
    "\n",
    "plt.figure(figsize=(10, 5))\n",
    "company_sales.plot(kind='bar', color='skyblue')\n",
    "plt.title(\"Total Sales by Company\")\n",
    "plt.xlabel(\"Company\")\n",
    "plt.ylabel(\"Total Price ($)\")\n",
    "plt.xticks(rotation=45)\n",
    "plt.show()"
   ]
  },
  {
   "cell_type": "markdown",
   "metadata": {
    "id": "kHWzxoT0ikw9"
   },
   "source": [
    "### **4. Multivariate Analysis**"
   ]
  },
  {
   "cell_type": "markdown",
   "metadata": {
    "id": "YXhtcPt1K87M"
   },
   "source": [
    "This section examines the relationship between multiple variables to identify complex patterns."
   ]
  },
  {
   "cell_type": "code",
   "execution_count": null,
   "metadata": {
    "colab": {
     "base_uri": "https://localhost:8080/",
     "height": 472
    },
    "id": "5HID_xnDLtMd",
    "outputId": "48911c94-f968-4493-cb31-83268d99299a"
   },
   "outputs": [],
   "source": [
    "from sklearn.cluster import KMeans\n",
    "\n",
    "# Select numeric columns\n",
    "X = df[['Annual Income', 'Price ($)']]\n",
    "\n",
    "# Apply K-Means clustering\n",
    "kmeans = KMeans(n_clusters=3, random_state=42)\n",
    "df['Cluster'] = kmeans.fit_predict(X)\n",
    "\n",
    "# Scatter plot of clusters\n",
    "sns.scatterplot(x=df[\"Annual Income\"], y=df[\"Price ($)\"], hue=df[\"Cluster\"], palette=\"Set1\")\n",
    "plt.title(\"Customer Segmentation\")\n",
    "plt.show()"
   ]
  },
  {
   "cell_type": "code",
   "execution_count": null,
   "metadata": {
    "colab": {
     "base_uri": "https://localhost:8080/",
     "height": 458
    },
    "id": "tcFfd6Tkqijs",
    "outputId": "b682db83-5164-45fd-ec28-a16877212140"
   },
   "outputs": [],
   "source": [
    "df['Engine']"
   ]
  },
  {
   "cell_type": "markdown",
   "metadata": {
    "id": "k0MhWni4m-2q"
   },
   "source": [
    "#### 1. How do annual income, car price, and body style influence customer preferences across different dealer regions?"
   ]
  },
  {
   "cell_type": "code",
   "execution_count": null,
   "metadata": {
    "colab": {
     "base_uri": "https://localhost:8080/",
     "height": 1000
    },
    "id": "N3APS9ctm64S",
    "outputId": "fc2fadd2-1a17-4deb-d9d4-ab6d72e55585"
   },
   "outputs": [],
   "source": [
    "# Create a scatter plot to analyze the relationships\n",
    "plt.figure(figsize=(12, 6))\n",
    "sns.scatterplot(\n",
    "    x=df[\"Annual Income\"],\n",
    "    y=df[\"Price ($)\"],\n",
    "    hue=df[\"Body Style\"],\n",
    "    style=df[\"Body Style\"],\n",
    "    palette=\"Set1\"\n",
    ")\n",
    "\n",
    "plt.title(\"Annual Income vs. Car Price by Body Style\")\n",
    "plt.xlabel(\"Annual Income\")\n",
    "plt.ylabel(\"Car Price ($)\")\n",
    "plt.legend(title=\"Body Style\")\n",
    "plt.show()\n",
    "\n",
    "# Faceted plot by Dealer Region\n",
    "g = sns.FacetGrid(df, col=\"Dealer_Region\", col_wrap=3, height=4, sharex=False, sharey=False)\n",
    "g.map_dataframe(sns.scatterplot, x=\"Annual Income\", y=\"Price ($)\", hue=\"Body Style\", style=\"Body Style\", palette=\"Set2\")\n",
    "g.add_legend()\n",
    "plt.show()"
   ]
  },
  {
   "cell_type": "markdown",
   "metadata": {
    "id": "XM2TmkN-sdBS"
   },
   "source": [
    "#### 2. How do annual income, car price, and engine type relate to each other?"
   ]
  },
  {
   "cell_type": "code",
   "execution_count": null,
   "metadata": {
    "colab": {
     "base_uri": "https://localhost:8080/",
     "height": 564
    },
    "id": "fMB4joQJseVf",
    "outputId": "5e6bdff7-6f8e-486f-8f2a-9ae6c50cf5f8"
   },
   "outputs": [],
   "source": [
    "# Scatter plot with hue representing Engine type\n",
    "plt.figure(figsize=(12, 6))\n",
    "sns.scatterplot(\n",
    "    x=df[\"Annual Income\"],\n",
    "    y=df[\"Price ($)\"],\n",
    "    hue=df[\"Engine\"],\n",
    "    style=df[\"Engine\"],\n",
    "    palette=\"Set2\",\n",
    "    alpha=0.8\n",
    ")\n",
    "\n",
    "plt.title(\"Annual Income vs. Car Price by Engine Type\")\n",
    "plt.xlabel(\"Annual Income ($)\")\n",
    "plt.ylabel(\"Car Price ($)\")\n",
    "plt.legend(title=\"Engine Type\", bbox_to_anchor=(1.05, 1), loc=\"upper left\")\n",
    "plt.show()"
   ]
  },
  {
   "cell_type": "markdown",
   "metadata": {
    "id": "pnZAX8WY-d7e"
   },
   "source": [
    "## **VII. APPROACH**"
   ]
  },
  {
   "cell_type": "markdown",
   "metadata": {
    "id": "UtVb7KoCWvwa"
   },
   "source": [
    "The dataset contains 23,906 entries and 16 columns in total and was loaded into a Pandas DataFrame. In the dataset, missing data was very minimal with only one missing entry in the Customer Name column. Visualizations such as histograms and box plots were plotted to gain insights and also allow trends in numerical columns to be analyzed. Furthermore, data was grouped by categorical variables such as Company, Model, and Dealer_Region in order to observe sales trends patterns.\n",
    "\n",
    "The approach involved:\n",
    "\n",
    "\n",
    "Data Preprocessing:\n",
    "- Missing values were checked and handled appropriately.\n",
    "- The `Date` column was converted to a datetime format.\n",
    "\n",
    "EDA:\n",
    "- Summary statistics was used to understand how the data was distributed\n",
    "- Visualized numerical variables with histograms and box plots\n",
    "- Categorical variables were visualized using bar plots\n",
    "\n",
    "Bivariate Analysis:\n",
    "- Correlation analysis between `annual income` and `car price`.\n",
    "- Examined different correlations between `body stype`, `transmission type`, and `price`\n",
    "- Examined montly sales trends\n",
    "- Examined regional differences in accordance to car prices\n",
    "\n",
    "Multivariate Analysis:\n",
    "- Plotted a scatter plot of `annual income` vs. `car price`, with `body style` as the hue and style.\n",
    "- Visualize whether certain `body styles` are preferred by different `annual income` groups.\n",
    "- Facet grid plots break down the scatter plot by `dealer region`.\n",
    "- Compare customer preferences and `car price` variations across different `regions`.\n",
    "- Used `engine type` as the hue and style in a scatter plot of `annual income` vs. `car price`.\n",
    "- Determine if certain `engine types` are more popular among specific `annual income` groups.\n",
    "\n",
    "Tools:\n",
    "- `pandas`, `numpy`, `matplotlib`, `seaborn`, `scipy.stats`\n",
    "\n",
    "\n"
   ]
  },
  {
   "cell_type": "markdown",
   "metadata": {
    "id": "-GqVIZM3sErR"
   },
   "source": [
    "## **VIII. EDA RESULTS**"
   ]
  },
  {
   "cell_type": "markdown",
   "metadata": {
    "id": "2VTOCFsLZoCd"
   },
   "source": [
    "Our analysis showed that annual income and price varied a lot across different car models and brands. Box plots showed some possible outliers in income and price. The dataset contains car companies, models, and dealer regions wherein it is suggested that customer location and financial status affect purchasing decisions. The dataset was structured well since there was barely any missing data.\n",
    "\n",
    "The data is densely packed in the lower income and price ranges, indicating that most cars are purchased in the lower-to-mid price range. Vehicles' body types are present across various price points and don’t show a clear trend toward any specific income group. There is no strong upward trend, meaning annual income does not have a strict linear correlation with car price."
   ]
  },
  {
   "cell_type": "markdown",
   "metadata": {},
   "source": [
    "## **KEY INSIGHTS**"
   ]
  },
  {
   "cell_type": "markdown",
   "metadata": {},
   "source": [
    "### **Insights based on Objectives:**\n",
    "  \n",
    "*Key Variables*\n",
    "  - Numerical: Annual Income and Price\n",
    "  - Categorical: Dealer_Name, Model, Date (Year and Month), Gender, Company, Engine, Transmission, Color, Body Style, and Dealer_Region\n",
    "\n",
    "*Missing Values*\n",
    "  - There was only one instance that had a missing value (Customer Name). Hence, two options were taken to consider to handle this issue: (1) drop the instance that had missing Customer Name, or (2) drop the entire 'Customer Name' column. The first option may seem efficient, however, since the column is unique and cannot help in the determining trends or preferences, the decision leans towards to deleting the entire 'Customer Name' column.\n",
    "  - However, since there is a possibility of filtering the entire dataset to 'Chevrolet' company, the missing values will not affect the dataset since 'Dodge' is the company of the instance with missing value. Hence, no dropping of instance or column.\n",
    "  \n",
    "*Outliers*\n",
    "  - Specifically, the 'Price' (in dollar) and 'Annual Income' (of the customer) are two variables that showed high number of outliers.\n",
    "\n",
    "*Trends and Patterns Observed*\n",
    "  - The top values for each variables indicates that 78.63% of the customers of car sales are men, and Chevrolet has the highest number of sales during 2022 and 2023.\n",
    "  - The customers prefer DoubleA Overhead Camshaft Engine\n",
    "  - The customers prefer Automatic Transmission even though its pricey than Manual Transmission.\n",
    "  - Sales from the month of September, November and December are typically high and is seen in both years (2022 and 2023), which could be due to year-end promotions. While, January and February are not the most ideal months for car sales.\n",
    "  - Customers of 'Cadillac' company have a higher average annual income of around \\$900,000, while 'Chevrolet' is 24th on the list of 30 car brands, with an average annual income of around \\$800,000.\n",
    "  - Average price of 'Cadillac' cars is around \\$40,000. While average price of 'Chevrolet' cars is around \\$25,000.\n",
    "\n",
    "\n",
    "---\n",
    "\n",
    "### **Other Insights:**\n",
    "- In Bivariate analysis, car price by specific category measures only the average. It would be better to use sum to compute the \"total\" sales made per category.\n",
    "- We can compare the monthly sales from 2022 to the monthly sales of 2023 to reveal if seasonal trend is consistent, or if there are variances.\n",
    "- We can compare the car prices by engine types.\n",
    "- Skewness of data can be addressed using Data Transformation techniques like log transformation, cuberoot transformation, etc."
   ]
  },
  {
   "cell_type": "markdown",
   "metadata": {},
   "source": [
    "# **PART II**"
   ]
  },
  {
   "cell_type": "markdown",
   "metadata": {
    "id": "A8_Nc7rUkn2f"
   },
   "source": [
    "## **Methodology**"
   ]
  },
  {
   "cell_type": "markdown",
   "metadata": {
    "id": "VjYD61z9k4Iq"
   },
   "source": [
    "Our chosen method for analysis is classification. Since the objective is to classify customers as high or low spenders based on car prices, a classification approach is the most appropriate. Specifically, we will use a supervised learning model, as we have labeled data (spending category: High = 1, Low = 0)."
   ]
  },
  {
   "cell_type": "markdown",
   "metadata": {
    "id": "MBjS8SnhoQX9"
   },
   "source": [
    "#### Tools and Libraries\n"
   ]
  },
  {
   "cell_type": "markdown",
   "metadata": {
    "id": "rT_DxM9MoQxG"
   },
   "source": [
    "\n",
    "We will use Python and the following libraries:\n",
    "- \tpandas – for data manipulation and preprocessing\n",
    "- \tscikit-learn – for machine learning models and evaluation\n",
    "- \tmatplotlib & seaborn – for data visualization\n",
    "- \tstatsmodels – for statistical analysis (if needed)\n",
    "\n"
   ]
  },
  {
   "cell_type": "markdown",
   "metadata": {},
   "source": [
    "#### Features\n",
    "\n",
    "The following features were selected for the model:\n",
    "- Gender: The customer’s gender (e.g., Male, Female).\n",
    "- Annual Income: The yearly income of the customer, which is a key indicator of purchasing power.\n",
    "- Transmission: The type of transmission in the purchased vehicle (e.g., Automatic, Manual).\n",
    "- Body Style: The category of the vehicle purchased (e.g., SUV, Sedan, Coupe).\n",
    "- Dealer Region: The geographical region of the dealer, which may influence price variations.\n",
    "- Color: The color of the purchased vehicle, which might indicate customer preferences.\n",
    "- Engine: The type of engine used in the car, which could be associated with pricing.\n",
    "\n",
    "These features were chosen because they may correlate with the spending behavior of customers."
   ]
  },
  {
   "cell_type": "markdown",
   "metadata": {
    "id": "wCmh5zy4oYZY"
   },
   "source": [
    "#### Model Selection"
   ]
  },
  {
   "cell_type": "markdown",
   "metadata": {
    "id": "kMqRFKzVoYpi"
   },
   "source": [
    "We will explore the following classification models:\n",
    " 1.\tLogistic Regression – a simple and interpretable baseline model for binary classification.\n",
    " 2.\tK-Nearest Neighbors (KNN) – useful for non-linear relationships and robust with different data distributions.\n",
    " 3.\tDecision Trees - a tree-based model that recursively splits data into branches based on feature importance, making decisions interpretable.\n",
    "\n",
    "We will observe the performance of the models based on metrics such as accuracy, precision, recall, and F1-score.\n",
    "\n"
   ]
  },
  {
   "cell_type": "markdown",
   "metadata": {
    "id": "rN4vASB8olab"
   },
   "source": [
    "#### Feature Engineering and Data Preprocessing"
   ]
  },
  {
   "cell_type": "markdown",
   "metadata": {
    "id": "T3crx2S0oljS"
   },
   "source": [
    " 1.\tHandling Categorical Variables:\n",
    "\t•\tConvert categorical features like Gender, Body Style, Transmission, and Dealer Region into numerical form using one-hot encoding.\n",
    " 2.\tScaling Features:\n",
    "\t•\tStandardize numerical features such as Annual Income using MinMaxScaler or StandardScaler for models sensitive to feature scaling (e.g., KNN, SVM).\n",
    " 3.\tHandling Missing Data:\n",
    "\t•\tFill missing values using mean/median imputation for numerical features.\n",
    "\t•\tUse mode imputation or introduce an “unknown” category for categorical features.\n",
    " 4.\tSplitting Data:\n",
    "\t•\tUse an 80-20 train-test split to train and evaluate models.\n",
    " 5.\tHyperparameter Tuning:\n",
    "\t•\tUse GridSearchCV or RandomizedSearchCV to find the best hyperparameters.\n",
    " 6.\tModel Evaluation:\n",
    "\t•\tUse Confusion Matrix, ROC Curve, and Classification Report to evaluate model performance."
   ]
  },
  {
   "cell_type": "markdown",
   "metadata": {
    "id": "Owa8rXh2ndvr"
   },
   "source": [
    "### **Data Preparation**\n",
    "\n",
    "This section prepares the data for model training"
   ]
  },
  {
   "cell_type": "markdown",
   "metadata": {},
   "source": [
    "Import Libraries"
   ]
  },
  {
   "cell_type": "code",
   "execution_count": null,
   "metadata": {},
   "outputs": [],
   "source": [
    "from sklearn.model_selection import train_test_split\n",
    "from sklearn.tree import DecisionTreeClassifier, plot_tree\n",
    "from sklearn.metrics import accuracy_score, classification_report, confusion_matrix"
   ]
  },
  {
   "cell_type": "markdown",
   "metadata": {},
   "source": [
    "Create a copy of df to avoid modifying the original DataFrame"
   ]
  },
  {
   "cell_type": "code",
   "execution_count": null,
   "metadata": {},
   "outputs": [],
   "source": [
    "copy_df = df.copy()"
   ]
  },
  {
   "cell_type": "code",
   "execution_count": null,
   "metadata": {
    "colab": {
     "base_uri": "https://localhost:8080/",
     "height": 345
    },
    "id": "JhNVRO0YniXS",
    "outputId": "17b6c885-5abd-4a17-b930-b907c57f58dd"
   },
   "outputs": [],
   "source": [
    "copy_df.head()"
   ]
  },
  {
   "cell_type": "markdown",
   "metadata": {},
   "source": [
    "Check for null values"
   ]
  },
  {
   "cell_type": "code",
   "execution_count": null,
   "metadata": {
    "colab": {
     "base_uri": "https://localhost:8080/"
    },
    "id": "9Mv-SADOsbEj",
    "outputId": "cd427588-ba5c-4955-adf9-f67923a8c349"
   },
   "outputs": [],
   "source": [
    "print(copy_df.isnull().sum())"
   ]
  },
  {
   "cell_type": "markdown",
   "metadata": {},
   "source": [
    "Drop instance/row with missing value"
   ]
  },
  {
   "cell_type": "code",
   "execution_count": null,
   "metadata": {
    "id": "Mc4onZADrAnt"
   },
   "outputs": [],
   "source": [
    "copy_df = copy_df.drop(index=missing_index, axis=0)"
   ]
  },
  {
   "cell_type": "markdown",
   "metadata": {},
   "source": [
    "Drop unused columns/features"
   ]
  },
  {
   "cell_type": "code",
   "execution_count": null,
   "metadata": {},
   "outputs": [],
   "source": [
    "print(copy_df.columns)"
   ]
  },
  {
   "cell_type": "code",
   "execution_count": null,
   "metadata": {},
   "outputs": [],
   "source": [
    "copy_df = copy_df.drop(\n",
    "    ['Car_id', 'Date', 'Customer Name', 'Phone', 'Dealer_Name', 'Company', 'Model', 'Price ($)', 'Dealer_No ', 'Cluster'], \n",
    "    axis=1\n",
    ")"
   ]
  },
  {
   "cell_type": "markdown",
   "metadata": {},
   "source": [
    "#### Feature Engineering"
   ]
  },
  {
   "cell_type": "markdown",
   "metadata": {},
   "source": [
    "Get the median of Price ($) in df and df_filtered"
   ]
  },
  {
   "cell_type": "code",
   "execution_count": null,
   "metadata": {
    "id": "28qyeJA9pXX8"
   },
   "outputs": [],
   "source": [
    "median = copy_df['Price ($)'].median()"
   ]
  },
  {
   "cell_type": "markdown",
   "metadata": {},
   "source": [
    "Create new column called Spending Category in copy_df"
   ]
  },
  {
   "cell_type": "code",
   "execution_count": null,
   "metadata": {
    "id": "3CiFH6Gwpflr"
   },
   "outputs": [],
   "source": [
    "copy_df['Spending Category'] = (copy_df['Price ($)'] > median).astype(int)"
   ]
  },
  {
   "cell_type": "markdown",
   "metadata": {},
   "source": [
    "Check class balance"
   ]
  },
  {
   "cell_type": "code",
   "execution_count": null,
   "metadata": {
    "colab": {
     "base_uri": "https://localhost:8080/",
     "height": 178
    },
    "id": "cVG-HAM3qs91",
    "outputId": "8a13356b-6f2a-4c27-d50a-594be4d3767f"
   },
   "outputs": [],
   "source": [
    "copy_df['Spending Category'].value_counts()"
   ]
  },
  {
   "cell_type": "markdown",
   "metadata": {},
   "source": [
    "#### One-Hot Encoding of Categorical Numbers"
   ]
  },
  {
   "cell_type": "code",
   "execution_count": null,
   "metadata": {},
   "outputs": [],
   "source": [
    "copy_df = pd.get_dummies(copy_df, columns=['Gender'], drop_first=True)\n",
    "copy_df = pd.get_dummies(copy_df, columns=['Dealer_Name'], drop_first=True)\n",
    "copy_df = pd.get_dummies(copy_df, columns=['Company'], drop_first=True)\n",
    "copy_df = pd.get_dummies(copy_df, columns=['Model'], drop_first=True)\n",
    "copy_df = pd.get_dummies(copy_df, columns=['Engine'], drop_first=True)\n",
    "\n",
    "copy_df = pd.get_dummies(copy_df, columns=['Transmission'], drop_first=True)\n",
    "copy_df = pd.get_dummies(copy_df, columns=['Color'], drop_first=True)\n",
    "copy_df = pd.get_dummies(copy_df, columns=['Dealer_No '], drop_first=True)\n",
    "copy_df = pd.get_dummies(copy_df, columns=['Body Style'], drop_first=True)\n",
    "copy_df = pd.get_dummies(copy_df, columns=['Dealer_Region'], drop_first=True)"
   ]
  },
  {
   "cell_type": "markdown",
   "metadata": {},
   "source": [
    "Check the dataframe"
   ]
  },
  {
   "cell_type": "code",
   "execution_count": null,
   "metadata": {},
   "outputs": [],
   "source": [
    "copy_df.shape\n",
    "copy_df.head()"
   ]
  },
  {
   "cell_type": "code",
   "execution_count": null,
   "metadata": {},
   "outputs": [],
   "source": [
    "# Split Data\n",
    "X = copy_df.drop(columns=['Spending Category'])\n",
    "y = copy_df['Spending Category'].values\n",
    "\n",
    "X_train, X_test, y_train, y_test = train_test_split(X, y, test_size=0.3, random_state=42)"
   ]
  },
  {
   "cell_type": "code",
   "execution_count": null,
   "metadata": {},
   "outputs": [],
   "source": [
    "print(X_train.shape)\n",
    "print(X_test.shape)\n",
    "print(y_train.shape)\n",
    "print(y_test.shape)"
   ]
  },
  {
   "cell_type": "markdown",
   "metadata": {
    "id": "kRc4k1n7khAv"
   },
   "source": [
    "## **Model and Analysis**\n",
    "\n",
    "This section includes training model and analysis of results"
   ]
  },
  {
   "cell_type": "markdown",
   "metadata": {},
   "source": [
    "### **Model 1: Decision Tree**"
   ]
  },
  {
   "cell_type": "code",
   "execution_count": null,
   "metadata": {},
   "outputs": [],
   "source": [
    "# Create Decision Tree Model\n",
    "model1 = DecisionTreeClassifier(criterion='gini', max_depth=3, class_weight='balanced', random_state=42)"
   ]
  },
  {
   "cell_type": "code",
   "execution_count": null,
   "metadata": {},
   "outputs": [],
   "source": [
    "# Train Model\n",
    "model1.fit(X_train, y_train)"
   ]
  },
  {
   "cell_type": "code",
   "execution_count": null,
   "metadata": {},
   "outputs": [],
   "source": [
    "# Make Prediction\n",
    "y_pred = model1.predict(X_test)"
   ]
  },
  {
   "cell_type": "code",
   "execution_count": null,
   "metadata": {},
   "outputs": [],
   "source": [
    "# Evaluate the model using accuracy, classification report, and confusion matrix\n",
    "accuracy = accuracy_score(y_test, y_pred)\n",
    "print(\"Accuracy:\", accuracy)\n",
    "print(\"\\nClassification Report:\\n\", classification_report(y_test, y_pred))"
   ]
  },
  {
   "cell_type": "code",
   "execution_count": null,
   "metadata": {},
   "outputs": [],
   "source": [
    "# Plot confusion matrix\n",
    "\n",
    "cm = confusion_matrix(y_test, y_pred)\n",
    "plt.figure(figsize=(5,4))\n",
    "sns.heatmap(cm, annot=True, fmt=\"d\", cmap=\"Blues\", xticklabels=[\"Class 0\", \"Class 1\"], yticklabels=[\"Class 0\", \"Class 1\"])\n",
    "plt.xlabel(\"Predicted Label\")\n",
    "plt.ylabel(\"True Label\")\n",
    "plt.title(\"Confusion Matrix\")\n",
    "plt.show()"
   ]
  },
  {
   "cell_type": "code",
   "execution_count": null,
   "metadata": {},
   "outputs": [],
   "source": [
    "# Show Decision Tree\n",
    "plt.figure(figsize=(10, 6))\n",
    "plot_tree(model1, feature_names=X.columns, class_names=['No', 'Yes'], filled=True)\n",
    "plt.show()"
   ]
  },
  {
   "cell_type": "markdown",
   "metadata": {},
   "source": [
    "### **Model 2: Logistic Regression**"
   ]
  },
  {
   "cell_type": "code",
   "execution_count": null,
   "metadata": {},
   "outputs": [],
   "source": []
  },
  {
   "cell_type": "markdown",
   "metadata": {},
   "source": [
    "### **Model 3: K-Nearest Neighbors**"
   ]
  }
 ],
 "metadata": {
  "colab": {
   "provenance": []
  },
  "kernelspec": {
   "display_name": "base",
   "language": "python",
   "name": "python3"
  },
  "language_info": {
   "codemirror_mode": {
    "name": "ipython",
    "version": 3
   },
   "file_extension": ".py",
   "mimetype": "text/x-python",
   "name": "python",
   "nbconvert_exporter": "python",
   "pygments_lexer": "ipython3",
   "version": "3.12.7"
  }
 },
 "nbformat": 4,
 "nbformat_minor": 1
}
